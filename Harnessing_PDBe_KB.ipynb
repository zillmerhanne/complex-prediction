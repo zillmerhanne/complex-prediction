{
  "nbformat": 4,
  "nbformat_minor": 0,
  "metadata": {
    "colab": {
      "provenance": [],
      "include_colab_link": true
    },
    "kernelspec": {
      "name": "python3",
      "display_name": "Python 3"
    },
    "language_info": {
      "name": "python"
    }
  },
  "cells": [
    {
      "cell_type": "markdown",
      "metadata": {
        "id": "view-in-github",
        "colab_type": "text"
      },
      "source": [
        "<a href=\"https://colab.research.google.com/github/zillmerhanne/complex-prediction/blob/main/Harnessing_PDBe_KB.ipynb\" target=\"_parent\"><img src=\"https://colab.research.google.com/assets/colab-badge.svg\" alt=\"Open In Colab\"/></a>"
      ]
    },
    {
      "cell_type": "markdown",
      "source": [
        "# PDBe API Training\n",
        "\n",
        "## Introduction\n",
        "\n",
        "This interactive Python notebook will guide you through programmatically accessing Protein Data Bank in Europe (PDBe) data using our REST and Graph APIs.\n",
        "\n",
        "The REST API is a programmatic way to obtain information from the PDB and EMDB archives. It allows you to access and filter the vast amount of data stored about the protein structures stored in the archives, indexed by PDB entity. The Graph API provides a similar function, although it is not indexed like a relational database, enabling more abstract queries that would otherwise require post-API processing.\n",
        "\n",
        "Many types of information about the structures stored are made available through structured data categories. For example, you can access information about:\n",
        "* sample details\n",
        "* experimental setup\n",
        "* model quality\n",
        "* bound compounds\n",
        "* assembly formation\n",
        "* cross-references\n",
        "* publications\n",
        "* and much more...\n",
        "\n",
        "For more information, visit https://pdbe.org/api\n",
        "\n",
        "**Interactive cells contain code and are represented with the ▶️ symbol. Run these cells in order to define functions, query APIs and process the fetched data.**\n",
        "\n",
        "Much of the code in this notebook has been hidden for this workshop. You can view the source code by clicking on the \"Show code\" buttons. If you would like to learn more about programmatically accessing data from the PDBe and PDBe-KB, we have a [freely availabile training repository on GitHub](https://github.com/PDBeurope/pdbe-api-training).\n",
        "\n",
        "\n",
        "---"
      ],
      "metadata": {
        "id": "2zow3CrEWxHK"
      }
    },
    {
      "cell_type": "markdown",
      "source": [
        "## 1.&nbsp; Initialise environment"
      ],
      "metadata": {
        "id": "FXGM6KRTdOoN"
      }
    },
    {
      "cell_type": "code",
      "source": [
        "#@title 1.1 ▶️ Install and import libraries\n",
        "\n",
        "#@markdown Run this code block to install all the necessary packages needed for accessing and processing API data.\n",
        "#@markdown <br> <br>\n",
        "#@markdown The following packages will be imported:\n",
        "#@markdown * [requests](https://requests.readthedocs.io/en/master/): Querying APIs\n",
        "#@markdown * [pprint](https://docs.python.org/3/library/pprint.html): Improved readability of JSON output\n",
        "#@markdown * [solrq](https://pypi.org/project/solrq/): Formatting of query arguments to Solr APIs\n",
        "#@markdown * [sys](https://docs.python.org/3/library/sys.html): System-specific parameters and functions\n",
        "#@markdown * [google](): Handling data stored on Google Drive via Google Colab notebooks\n",
        "\n",
        "!pip install solrq # &> /dev/null\n",
        "\n",
        "# API access\n",
        "from solrq import Q\n",
        "from pprint import pprint\n",
        "import sys\n",
        "import requests\n",
        "\n",
        "# Data processing\n",
        "import pandas as pd\n",
        "from matplotlib import pyplot as plt\n",
        "\n",
        "#Google Colab specific imports\n",
        "import os\n",
        "from google.colab import drive\n"
      ],
      "metadata": {
        "cellView": "form",
        "id": "oGN849UDWy9f"
      },
      "execution_count": null,
      "outputs": []
    },
    {
      "cell_type": "code",
      "source": [
        "#@title 1.2 ▶️ Define global variables\n",
        "\n",
        "#@markdown Run this code block to initialise the API stem URIs as global variables. This will help with code readability and reduce repitition.\n",
        "#@markdown <br>\n",
        "#@markdown <br>\n",
        "#@markdown If you are interested in working with the PDBe APIs, click on the \"Show code\" link to reveal the variables. You can otherwise complete this notebook without learning these URIs.\n",
        "BASE_URL = \"https://www.ebi.ac.uk/pdbe/\"  # the beginning of the URL for PDBe's API.\n",
        "\n",
        "# For Solr API quries in section 2\n",
        "SEARCH_URL = BASE_URL + \"search/pdb/select?\"  # the rest of the URL used for PDBe's search API.\n",
        "\n",
        "# For Graph API queries in section 3\n",
        "PDBEKB_UNIPROT_URL = BASE_URL + \"graph-api/uniprot/\"\n",
        "PDBEKB_UNIPROT_LIGAND_URL = PDBEKB_UNIPROT_URL + \"ligand_sites/\"\n",
        "\n",
        "# For Graph API queries in section 4\n",
        "PDBEKB_UNIPROT_INTERACTION_URL = PDBEKB_UNIPROT_URL + \"interface_residues/\"\n",
        "\n",
        "# For Graph API queries in section 5\n",
        "PDBEKB_UNIPROT_COMPLEX_URL = PDBEKB_UNIPROT_URL + \"complex/\"\n",
        "\n",
        "# For Graph API queries in section 6\n",
        "PDBEKB_UNIPROT_SIMILARITY_URL = PDBEKB_UNIPROT_URL + \"similar_proteins/\"\n"
      ],
      "metadata": {
        "cellView": "form",
        "id": "3L1xkdJ5b4wu"
      },
      "execution_count": null,
      "outputs": []
    },
    {
      "cell_type": "code",
      "source": [
        "#@title 1.3 ▶️ Define useful functions\n",
        "\n",
        "#@markdown You do not need to pour over the source code here, but know that running this block will instantiate several useful functions that we will use to retrieve data from the PDBe's Solr and Graph APIs.\n",
        "#@markdown <br> <br>\n",
        "#@markdown The functions you are initialising are as follows:\n",
        "#@markdown <br>\n",
        "#@markdown * **Section 2:**\n",
        "#@markdown  * `format_search_terms_post()`: Parses Solr object into API-readable dictionary\n",
        "#@markdown  * `make_request_post()`: Sends post request to PDBe API\n",
        "#@markdown  * `run_search()`: Accepts query and filter terms, running the two functions above\n",
        "#@markdown * **Section 3:**\n",
        "#@markdown  * `get_url()`: Makes a request to a Graph API URL. Returns a JSON of the results\n",
        "#@markdown  * `get_ligand_site_data()`: Retrieve ligand site data for a given UniProt accession and parse it into list.\n",
        "#@markdown  * `explode_dataset()`: Expands a dataset with column elements stored as lists.\n",
        "#@markdown * **Section 4:**\n",
        "#@markdown  * `get_macromolecule_interaction_data()`: Get all the macromolecule interaction data for a given UniProt accession\n",
        "#@markdown * **Section 5:**\n",
        "#@markdown  * `get_complexes_protein_data()`: Get all the protein complexes observed in PDB entries for a given UniProt accession\n",
        "#@markdown * **Section 6:**\n",
        "#@markdown  * `get_similar_protein_data()`: Get similar protein data for a given UniProt accession and identity threshold\n",
        "\n",
        "\n",
        "\n",
        "# --- Section 2 functions ---\n",
        "\n",
        "def format_search_terms_post(search_terms, filter_terms=None, **kwargs):\n",
        "    \"\"\"\n",
        "    Formats the search terms for the PDBe API\n",
        "    \"\"\"\n",
        "\n",
        "    # Variable to return\n",
        "    return_variables = {'q': str(search_terms)}\n",
        "\n",
        "    if filter_terms:\n",
        "        fl = ','.join(filter_terms)\n",
        "        return_variables['fl'] = fl\n",
        "\n",
        "    for arg in kwargs:\n",
        "        return_variables[arg] = kwargs[arg]\n",
        "\n",
        "    return return_variables\n",
        "\n",
        "def make_request_post(search_dict, number_of_rows=10):\n",
        "    \"\"\"\n",
        "    Makes a get request to the PDBe API\n",
        "    \"\"\"\n",
        "\n",
        "    if 'rows' not in search_dict:\n",
        "        search_dict['rows'] = number_of_rows\n",
        "\n",
        "    search_dict['wt'] = 'json'\n",
        "    response = requests.post(SEARCH_URL, data=search_dict)\n",
        "\n",
        "    if response.status_code == 200:\n",
        "        return response.json()\n",
        "\n",
        "    else:\n",
        "        print(f\"[No data retrieved - {response.status_code}] {response.text}\")\n",
        "\n",
        "    return {}\n",
        "\n",
        "def run_search(search_terms, filter_terms=None, number_of_rows=10, **kwargs):\n",
        "    \"\"\"\n",
        "    Run the search with set of search terms\n",
        "    \"\"\"\n",
        "\n",
        "    search_params = format_search_terms_post(search_terms=search_terms, filter_terms=filter_terms)\n",
        "\n",
        "    if search_params:\n",
        "        response = make_request_post(search_dict=search_params, number_of_rows=number_of_rows)\n",
        "\n",
        "        if response:\n",
        "            results = response.get('response', {}).get('docs', [])\n",
        "            print(f'Number of results for {search_terms}: {len(results)}')\n",
        "            return results\n",
        "\n",
        "    print('No results')\n",
        "    return []\n",
        "\n",
        "\n",
        "\n",
        "# --- Section 3 functions ---\n",
        "\n",
        "def get_url(url):\n",
        "    \"\"\"\n",
        "    Makes a request to a URL. Returns a JSON of the results\n",
        "    \"\"\"\n",
        "    response = requests.get(url)\n",
        "\n",
        "    if response.status_code == 200:\n",
        "        return response.json()\n",
        "\n",
        "    else:\n",
        "        print(f\"[No data retrieved - {response.status_code}] {response.text}\")\n",
        "\n",
        "    return {}\n",
        "\n",
        "def get_ligand_site_data(uniprot_accession):\n",
        "    \"\"\"\n",
        "    Retrieve ligand site data for a given UniProt accession and parse it into list.\n",
        "    \"\"\"\n",
        "\n",
        "    url = PDBEKB_UNIPROT_LIGAND_URL + uniprot_accession\n",
        "\n",
        "    data = get_url(url=url)\n",
        "    data_to_ret = []\n",
        "\n",
        "    for data_uniprot_accession in data:\n",
        "        accession_data = data.get(data_uniprot_accession)\n",
        "\n",
        "        for row in accession_data['data']:\n",
        "            ligand_accession = row['accession']\n",
        "            name = row['name']\n",
        "\n",
        "            # Get the number of atoms in the ligand, return {} if not found\n",
        "            num_atoms = row.get('additionalData', {})\n",
        "            num_atoms = num_atoms['numAtoms']\n",
        "\n",
        "            for residue in row[\"residues\"]:\n",
        "                residue['ligand_accession'] = ligand_accession\n",
        "                residue['ligand_name'] = name\n",
        "                residue['ligand_num_atoms'] = num_atoms\n",
        "                residue['uniprot_accession'] = uniprot_accession\n",
        "\n",
        "                # Calculate the interaction ratio, empty list if no interaction data\n",
        "                residue['interaction_ratio'] = len(\n",
        "                    residue.get('interactingPDBEntries', [])\n",
        "                ) / len(\n",
        "                    residue.get('allPDBEntries', [])\n",
        "                )\n",
        "\n",
        "                data_to_ret.append(residue)\n",
        "\n",
        "    return data_to_ret\n",
        "\n",
        "def explode_dataset(dataset, column_to_explode=None):\n",
        "    \"\"\"\n",
        "    Expands a dataset (input as a dictionary) where a given column (column_to_explode)\n",
        "    contains a list of values. Exploding this column will result in a new row for each\n",
        "    elements in the list. Where onlu a single element is in the list, the row will not\n",
        "    be duplicated.\n",
        "    \"\"\"\n",
        "\n",
        "    df = pd.DataFrame(dataset)\n",
        "    if column_to_explode:\n",
        "        df = df.explode(column=column_to_explode).reset_index(drop=True)\n",
        "\n",
        "    else:\n",
        "        for column in df.select_dtypes(include='object'):\n",
        "            df = df.explode(column=column).reset_index(drop=True)\n",
        "\n",
        "    return df\n",
        "\n",
        "\n",
        "\n",
        "# --- Section 4 functions ---\n",
        "\n",
        "def get_macromolecule_interaction_data(uniprot_accession):\n",
        "    \"\"\"\n",
        "    Get all the macromolecule interaction data for a given UniProt accession\n",
        "    \"\"\"\n",
        "\n",
        "    url = PDBEKB_UNIPROT_INTERACTION_URL + uniprot_accession\n",
        "\n",
        "    data = get_url(url=url)\n",
        "    data_to_ret = []\n",
        "\n",
        "    for data_uniprot_accession in data:\n",
        "        accession_data = data.get(data_uniprot_accession)\n",
        "        length = accession_data['length']\n",
        "\n",
        "        for row in accession_data['data']:\n",
        "            interaction_accession = row['accession']\n",
        "            all_pdb_entries = row['allPDBEntries']\n",
        "            name = row['name']\n",
        "\n",
        "            # Get the accession type, return empty dictionary if not present\n",
        "            accession_type = row.get('additionalData', {})\n",
        "            accession_type = accession_type['type']\n",
        "\n",
        "            for residue in row.get('residues', []):\n",
        "                residue['interaction_accession'] = interaction_accession\n",
        "                residue['interaction_name'] = name\n",
        "                residue['length'] = length\n",
        "                residue['uniprot_accession'] = uniprot_accession\n",
        "                residue['interaction_accession_type'] = accession_type\n",
        "\n",
        "                # Get the interacting PDB entries, return empty list if not present\n",
        "                interacting_entries = residue.get('interactingPDBEntries', [])\n",
        "                residue['interactingPDBEntries'] = interacting_entries\n",
        "                residue['interaction_ratio'] = len(interacting_entries) / len(all_pdb_entries)\n",
        "                del residue['allPDBEntries']\n",
        "                data_to_ret.append(residue)\n",
        "\n",
        "    return data_to_ret\n",
        "\n",
        "\n",
        "\n",
        "# --- Section 5 functions ---\n",
        "\n",
        "def get_complexes_protein_data(accession):\n",
        "    \"\"\"\n",
        "    Get all the protein complexes observed in PDB entries for a given UniProt accession\n",
        "    \"\"\"\n",
        "\n",
        "    url = PDBEKB_UNIPROT_COMPLEX_URL + accession\n",
        "\n",
        "    dictfilt = lambda x, y: dict([ (i,x[i]) for i in x if i in set(y) ])\n",
        "    data = get_url(url=url)\n",
        "    data_out = []\n",
        "\n",
        "    for row in data[accession]:\n",
        "\n",
        "        # Get complex ID for row\n",
        "        complex_id = list(row.keys())[0]\n",
        "\n",
        "        my_row = {\"complex_id\": complex_id}\n",
        "        my_row.update(row[complex_id])\n",
        "\n",
        "        # Example of list comprehension to quickly create a list\n",
        "        necc_rows = [keys for keys in my_row.keys() if keys !='participants']\n",
        "        necc_rows = dictfilt(my_row,necc_rows)\n",
        "\n",
        "        for item in my_row['participants'] :\n",
        "            # Example of dictionary comprehension to quickly create a dictionary\n",
        "            dict3 = {k:v for d in (necc_rows,item) for k,v in d.items()}\n",
        "            data_out.append(dict3)\n",
        "\n",
        "    return data_out\n",
        "\n",
        "\n",
        "\n",
        "# --- Section 6 functions ---\n",
        "\n",
        "def get_similar_protein_data(accession, identity):\n",
        "    \"\"\"\n",
        "    Get similar protein data for a given UniProt accession and identity threshold\n",
        "    \"\"\"\n",
        "\n",
        "    url = PDBEKB_UNIPROT_SIMILARITY_URL + accession + '/' + str(identity)\n",
        "\n",
        "    data = get_url(url=url)\n",
        "\n",
        "    return data\n"
      ],
      "metadata": {
        "cellView": "form",
        "id": "kHW9LBEqeuzf"
      },
      "execution_count": null,
      "outputs": []
    },
    {
      "cell_type": "markdown",
      "source": [
        "---"
      ],
      "metadata": {
        "id": "EKYpnSdYh-d5"
      }
    },
    {
      "cell_type": "markdown",
      "source": [
        "## 2.&nbsp; Retrieve PDB entries via Solr REST API\n",
        "\n",
        "The Solr API is an excellent way to programmatically retrieve PDB entities from the archive, based on a set of search criteria. If your requirement for data follows \"_I need `<a piece of/all information>` on all the PDB structures that `<satisfy a condition`>_\", then the Solr API is your point of call."
      ],
      "metadata": {
        "id": "4YSkkBuhd1ma"
      }
    },
    {
      "cell_type": "code",
      "source": [
        "#@title 2.1 ▶️ Fetch entries using a single field -- *molecule name*\n",
        "\n",
        "#@markdown Searching for all the PDB entries that have a particular \"molecule name\" can be easily achieved via the PDBe's Solr API. By default, only the top-ten hits are returned, but this can be increased without bound.\n",
        "#@markdown <br> <br>\n",
        "#@markdown **NB:** *The PDB currently contains over 215k entries. When writing your own queries, test with the default number as returning large amounts of data can be slow.*\n",
        "\n",
        "# Create the Solr search terms object\n",
        "input_molecule_name = 'Acetylcholinesterase' #@param {type:\"string\"}\n",
        "search_terms = Q(molecule_name=input_molecule_name)\n",
        "\n",
        "# Run the search\n",
        "initial_results = run_search(search_terms)\n",
        "print(\"Finished\")\n"
      ],
      "metadata": {
        "collapsed": true,
        "cellView": "form",
        "id": "6tG8nTVWiRQf"
      },
      "execution_count": null,
      "outputs": []
    },
    {
      "cell_type": "code",
      "source": [
        "#@markdown 🖨️ **Show results...**\n",
        "pprint(initial_results[0])"
      ],
      "metadata": {
        "collapsed": true,
        "cellView": "form",
        "id": "2nS25LyaTXDl"
      },
      "execution_count": null,
      "outputs": []
    },
    {
      "cell_type": "code",
      "source": [
        "#@title 2.2 ▶️ Fetch entries using two fields -- *molecule name* and *organism name*\n",
        "\n",
        "#@markdown Multiple fields can be queried at the same time to refine a search, retrieving more specific results. Again, only the top-ten hits are returned but we will later look at how this can be increased.\n",
        "input_molecule_name = 'Acetylcholinesterase' #@param {type:\"string\"}\n",
        "input_organism_name = 'Homo sapiens' #@param {type:\"string\"}\n",
        "\n",
        "search_terms = Q(organism_name=input_organism_name, molecule_name=input_molecule_name)\n",
        "multi_field_results = run_search(search_terms)\n",
        "print(\"Finished\")\n"
      ],
      "metadata": {
        "cellView": "form",
        "id": "T9NaWaNpRfBQ"
      },
      "execution_count": null,
      "outputs": []
    },
    {
      "cell_type": "code",
      "source": [
        "#@markdown 🖨️ **Show results...**\n",
        "pprint(multi_field_results[0])"
      ],
      "metadata": {
        "cellView": "form",
        "id": "sVFBtClITpKj",
        "collapsed": true
      },
      "execution_count": null,
      "outputs": []
    },
    {
      "cell_type": "code",
      "source": [
        "#@title 2.3 ▶️ Fetch entries with two custom fields\n",
        "\n",
        "#@markdown To give you an impression of the actionable queries, this code block offers some preselected fields to customise your query, refining the variety of results returned. For a complete list of available fields, refer to the PDBe's [Solr API documentation page](https://www.ebi.ac.uk/pdbe/api/doc/search.html).\n",
        "#@markdown <br><br>\n",
        "#@markdown **NB:** *Once you are satisfied toggling between the pre-selected search fields, you can add more query terms by adding additional arguments to the `Q(...)` object in the code editor.*\n",
        "#@markdown <br><br>\n",
        "#@markdown **First query field:**\n",
        "input_field_name_1 = \"molecule_name\" #@param [\"molecule_name\", \"organism_name\", \"uniprot_accession\", \"enzyme_name\", \"go_id\", \"resolution\", \"pubmed_id\", \"deposition_year\"]\n",
        "input_field_value_1 = \"Acetylcholinesterase\" #@param {type:\"string\"}\n",
        "\n",
        "#@markdown **Second query field:**\n",
        "input_field_name_2 = \"organism_name\" #@param [\"molecule_name\", \"organism_name\", \"uniprot_accession\", \"enzyme_name\", \"go_id\", \"resolution\", \"pubmed_id\", \"deposition_year\"]\n",
        "input_field_value_2 = \"Homo sapiens\" #@param {type:\"string\"}\n",
        "\n",
        "custom_field_results = run_search(search_terms)\n",
        "print(\"Finished\")"
      ],
      "metadata": {
        "cellView": "form",
        "id": "WoTLQcTEUNTj"
      },
      "execution_count": null,
      "outputs": []
    },
    {
      "cell_type": "code",
      "source": [
        "#@markdown 🖨️ **Show results...**\n",
        "pprint(custom_field_results[0])"
      ],
      "metadata": {
        "collapsed": true,
        "cellView": "form",
        "id": "59Fr7aPbXkzq"
      },
      "execution_count": null,
      "outputs": []
    },
    {
      "cell_type": "code",
      "source": [
        "#@title 2.4 ▶️ Fetch and filter entries on API call\n",
        "\n",
        "#@markdown So far, we have been retrieving all information pertaining to the valid PDB entries for a given set of query fields. This includes author names, publication abstract, entry DOI, crystallographic details (if a crystal structure), and more. Although valuable, we often need only a subset of this information. Relevant information can be \"filtered\" out from the returned JSON objects, or obtained at the time of calling the API. Run this code block to compare the results obtained here, vs those from section **2.1**.\n",
        "# Create the Solr search terms object\n",
        "input_molecule_name = 'Acetylcholinesterase' #@param {type:\"string\"}\n",
        "search_terms = Q(molecule_name=input_molecule_name)\n",
        "\n",
        "#@markdown **Filter terms:**\n",
        "pdb_id = True #@param {type:\"boolean\"}\n",
        "resolution = False #@param {type:\"boolean\"}\n",
        "release_year = False #@param {type:\"boolean\"}\n",
        "\n",
        "# Compile filter terms from booleans into list\n",
        "filter_term_dict = {\n",
        "    \"pdb_id\": pdb_id,\n",
        "    \"resolution\": resolution,\n",
        "    \"release_year\": release_year\n",
        "}\n",
        "filter_terms = [key for key, value in filter_term_dict.items() if value]\n",
        "\n",
        "# Run the search\n",
        "filtered_results = run_search(search_terms, filter_terms)\n",
        "print(\"Finished\")\n",
        "\n",
        "\n"
      ],
      "metadata": {
        "cellView": "form",
        "id": "srUUn6AEYPIk"
      },
      "execution_count": null,
      "outputs": []
    },
    {
      "cell_type": "code",
      "source": [
        "#@markdown 🖨️ **Show results...**\n",
        "pprint(filtered_results)"
      ],
      "metadata": {
        "collapsed": true,
        "cellView": "form",
        "id": "iduSedf5d1Q4"
      },
      "execution_count": null,
      "outputs": []
    },
    {
      "cell_type": "markdown",
      "source": [
        "The information returned from this API call should now contain only information requested by the filter terms, whilst still matching the conditions of the query terms (only `molecule_name` here)."
      ],
      "metadata": {
        "id": "zlA-FWboeDrl"
      }
    },
    {
      "cell_type": "code",
      "source": [
        "#@title 2.4 ▶️ Fetching more than 10 entries\n",
        "\n",
        "#@markdown Our API calls until now have returned only the top-ten hits from the PDB archive, not necessarily in any order. By filtering the results at the point of calling the API, we can safely increase this default ten-entry limit as high as we like (note, there are over 215k entries in the PDB archive) without suffering an extensively large time penalty. Of course, complex queries with extensive filter terms will process slower, so it is advisable to test with the default number before increasing this limit.\n",
        "#@markdown <br><br>\n",
        "#@markdown We will continue to use `molecule_name` as our only query field and use three filter terms: `pdb_id`, `resolution` and `release_year`.\n",
        "input_molecule_name = 'Acetylcholinesterase' #@param {type:\"string\"}\n",
        "search_terms = Q(molecule_name=input_molecule_name)\n",
        "\n",
        "filter_terms = [\"pdb_id\", \"resolution\", \"release_year\"]\n",
        "max_entry_number = 1000 #@param {type:\"integer\"}\n",
        "\n",
        "many_hit_results = run_search(search_terms, filter_terms, number_of_rows=max_entry_number)\n",
        "\n",
        "#@markdown **NB:** *The actual number of entries returned (hits) might be less than the `max_entry_number`, depending on the number of structures that meet the query field(s).*"
      ],
      "metadata": {
        "cellView": "form",
        "id": "USIpWb8qenzU"
      },
      "execution_count": null,
      "outputs": []
    },
    {
      "cell_type": "code",
      "source": [
        "#@markdown 🖨️ **Show results...**\n",
        "print(len(many_hit_results))\n",
        "pprint(many_hit_results)"
      ],
      "metadata": {
        "collapsed": true,
        "cellView": "form",
        "id": "o8iaQub6griw"
      },
      "execution_count": null,
      "outputs": []
    },
    {
      "cell_type": "markdown",
      "source": [
        "---"
      ],
      "metadata": {
        "id": "0ulI_JxfiEhr"
      }
    },
    {
      "cell_type": "markdown",
      "source": [
        "## 3.&nbsp; Retrieve ligand information from PDBe-KB Graph API\n",
        "\n",
        "In section 2, we retrived information on a per-entry basis. Here, we will access aggregated information across the whole PDB archive from several different biofunctional perspectives. Aggregated structural data can tell you not just about a single structure, but rather retrieve information pertaining to all entries across the entire archive, without extensive post-processing.\n",
        "\n",
        "In turn, we will look at retrieving information on ligand binding, macromolecular interactions, complexes, related proteins and predicted models. If you need to make a query not currently available via these APIs, the PDBe-KB's complete graph database, which can be [downloaded in full here](https://www.ebi.ac.uk/pdbe/pdbe-kb/graph). Documentation on the [graph database's schema is made available on the PDBe-KB website](https://www.ebi.ac.uk/pdbe/pdbe-kb/schema). Detailed documentation on the [Cypher queries used by the APIs are also made available](https://wwwdev.ebi.ac.uk/pdbe/aggregated-api/docs/api.html)."
      ],
      "metadata": {
        "id": "8cuCfP1HiMBa"
      }
    },
    {
      "cell_type": "code",
      "source": [
        "#@title 3.1 ▶️ Fetch ligand information for a given UniProt accession\n",
        "#@markdown Query the PDBe-KB Graph API for all ligand in the PDB archive that interact with the given UniProt accession.\n",
        "\n",
        "input_uniprot_accession = 'P22303' #@param {type:\"string\"}\n",
        "ligand_data = get_ligand_site_data(uniprot_accession=input_uniprot_accession)"
      ],
      "metadata": {
        "cellView": "form",
        "id": "rZL-NN63jjqu"
      },
      "execution_count": null,
      "outputs": []
    },
    {
      "cell_type": "code",
      "source": [
        "#@markdown 🖨️ **Show results...**\n",
        "pprint(ligand_data)"
      ],
      "metadata": {
        "collapsed": true,
        "cellView": "form",
        "id": "Y9sg64TYoWT6"
      },
      "execution_count": null,
      "outputs": []
    },
    {
      "cell_type": "markdown",
      "source": [
        "Unlike the Solr API, the results from the graph API are not limited to the top-ten hits. You will retrieve data from all hits at once, which may require parsing in a subsequent step. We will look at an example of this using the Pandas library below."
      ],
      "metadata": {
        "id": "oTk7OQwro0J5"
      }
    },
    {
      "cell_type": "code",
      "source": [
        "#@title 3.2 ▶️ Parse ligand results from API into a Pandas DataFrame\n",
        "#@markdown The results obtained from the graph API query are in JSON format. Run this cell to parse these data into a tabular Pandas DataFrame to make for easier data wrangling.\n",
        "\n",
        "df_ligand_data = explode_dataset(\n",
        "    dataset = ligand_data,\n",
        "    # Uncomment below argument to explode a single column\n",
        "    # column_to_explode='interactingPDBEntries'\n",
        ")\n",
        "df_ligand_data.head()"
      ],
      "metadata": {
        "cellView": "form",
        "id": "VAbvlwuup1lZ"
      },
      "execution_count": null,
      "outputs": []
    },
    {
      "cell_type": "code",
      "source": [
        "#@markdown The `interactingPDBEntries` column contains its results in dictionary format. Let's separate the keys and values out into their own cells by running this cell.\n",
        "lig_prot_interactions = pd.json_normalize(df_ligand_data['interactingPDBEntries'])\n",
        "df_lig_prot_interactions = df_ligand_data.join(lig_prot_interactions)\n",
        "df_lig_prot_interactions = df_lig_prot_interactions.drop(columns='interactingPDBEntries')\n",
        "df_lig_prot_interactions.head()"
      ],
      "metadata": {
        "cellView": "form",
        "id": "_yqqhrMzsCZx"
      },
      "execution_count": null,
      "outputs": []
    },
    {
      "cell_type": "markdown",
      "source": [
        "Now you have your ligand association results in tabular form, they can be saved to file (e.g. `df.to_csv(\"file_name.csv\")`) and/or data mined. We will next look look at how these data can be visualised."
      ],
      "metadata": {
        "id": "Ha7T3FnRtO9Q"
      }
    },
    {
      "cell_type": "code",
      "source": [
        "#@title 3.3 ▶️ Visualising parsed ligand association results\n",
        "\n",
        "#@markdown Run this cell to generate a scatter plot of ligand interaction frequency over the UniProt residue range.\n",
        "res_interactions = df_lig_prot_interactions.groupby('startIndex')['pdbId']\n",
        "res_interactions_count = res_interactions.count().reset_index()\n",
        "res_interactions_count.plot.scatter(x='startIndex', y='pdbId', xlabel=\"UniProt residue ID\", ylabel='# ligand interactions')\n"
      ],
      "metadata": {
        "id": "TDyTbyo5tuQb"
      },
      "execution_count": null,
      "outputs": []
    },
    {
      "cell_type": "code",
      "source": [
        "#@markdown Calculate some measures of central tendancy and spread to identify residues with high interaction frequency. Hopefully, these examples give you an impression of the data retrievable by this API.\n",
        "\n",
        "mean = res_interactions_count.mean()\n",
        "std = res_interactions_count.std()\n",
        "\n",
        "mean_value = float(mean.values[1])\n",
        "std_value = float(std.values[1])\n",
        "two_std_value = std_value * 2\n",
        "\n",
        "\n",
        "fig, (ax1, ax2) = plt.subplots(1, 2, figsize=(10, 5), tight_layout=True) # this makes one plot with an axis \"ax\" which we can add several plots to\n",
        "\n",
        "lt_data = res_interactions_count[res_interactions_count['pdbId'] <= mean_value]\n",
        "lt_data.plot.scatter(\n",
        "    x='startIndex',\n",
        "    y='pdbId',\n",
        "    color='blue',\n",
        "    ax=ax1\n",
        ")\n",
        "\n",
        "gt_data = res_interactions_count[res_interactions_count['pdbId'] > mean_value]\n",
        "gt_data.plot.scatter(\n",
        "    x='startIndex',\n",
        "    y='pdbId',\n",
        "    color='red',\n",
        "    ax=ax1\n",
        ")\n",
        "ax1.axhline(mean_value, label='Mean')\n",
        "ax1.text(80, mean_value+50, \"Mean\", ha='right', va='bottom')\n",
        "\n",
        "\n",
        "lt_data = res_interactions_count[res_interactions_count['pdbId'] <= two_std_value]\n",
        "lt_data.plot.scatter(\n",
        "    x='startIndex',\n",
        "    y='pdbId',\n",
        "    color='blue',\n",
        "    ax=ax2\n",
        ")\n",
        "\n",
        "gt_data = res_interactions_count[res_interactions_count['pdbId'] > two_std_value]\n",
        "gt_data.plot.scatter(\n",
        "    x='startIndex',\n",
        "    y='pdbId',\n",
        "    color='red',\n",
        "    ax=ax2\n",
        ")\n",
        "ax2.axhline(two_std_value)\n",
        "ax2.text(80, two_std_value+50, \"2\\u03C3\", ha='right', va='bottom')\n",
        "\n",
        "for ax in (ax1, ax2):\n",
        "  ax.set_ylabel('# ligand interactions')\n",
        "  ax.set_xlabel(\"UniProt residue ID\")\n",
        "  ax.grid(alpha=0.3)\n",
        "\n",
        "plt.show()\n",
        "plt.close()\n",
        "\n"
      ],
      "metadata": {
        "cellView": "form",
        "id": "VmXGK6ShvtnB"
      },
      "execution_count": null,
      "outputs": []
    },
    {
      "cell_type": "markdown",
      "source": [
        "## 4.&nbsp; Retrieve macromolecular interaction information from PDBe-KB Graph API\n",
        "\n",
        "We will next look at collecting information on residue-residue interactions between macromolecules within assemblies, across the PDB archive.\n",
        "\n"
      ],
      "metadata": {
        "id": "KiuLQ-VJ_Sed"
      }
    },
    {
      "cell_type": "code",
      "source": [
        "#@title 4.1 ▶️ Fetch macromolecule interaction information for a given UniProt accession\n",
        "#@markdown Query the PDBe-KB Graph API for all macromolecules in the PDB archive that interact with the structures of the given UniProt accession.\n",
        "\n",
        "input_uniprot_accession = 'P22303' #@param {type:\"string\"}\n",
        "interaction_data = get_macromolecule_interaction_data(uniprot_accession=input_uniprot_accession)\n",
        "\n"
      ],
      "metadata": {
        "cellView": "form",
        "id": "t7QuOf8JB-mj"
      },
      "execution_count": null,
      "outputs": []
    },
    {
      "cell_type": "code",
      "source": [
        "#@markdown 🖨️ **Show results...**\n",
        "pprint(interaction_data)"
      ],
      "metadata": {
        "collapsed": true,
        "cellView": "form",
        "id": "kUgaZCzOCV62"
      },
      "execution_count": null,
      "outputs": []
    },
    {
      "cell_type": "code",
      "source": [
        "#@title 4.2 ▶️ Parse interaction results from the API into a Pandas DataFrame\n",
        "#@markdown Similarly to the ligand data in section 3, the results obtained from the graph API query are in JSON format. Run this cell to parse these data into a tabular Pandas DataFrame to make for easier data wrangling.\n",
        "\n",
        "df_all_interactions = explode_dataset(\n",
        "    dataset=interaction_data,\n",
        "    # Uncomment to explode a single column\n",
        "    column_to_explode='interactingPDBEntries'\n",
        ")\n",
        "df_all_interactions.head()\n"
      ],
      "metadata": {
        "cellView": "form",
        "id": "eOYAwrCdEb2a"
      },
      "execution_count": null,
      "outputs": []
    },
    {
      "cell_type": "code",
      "source": [
        "#@markdown Like with the ligand interaction data, we also have some columns that contain dictionaries, that we would like to extract to fill new rows.\n",
        "\n",
        "data = pd.json_normalize(df_all_interactions['interactingPDBEntries'])\n",
        "\n",
        "# Add the new columns to the dataframe\n",
        "df_interactions = df_all_interactions.join(data)\n",
        "# Remove some columns that are not needed\n",
        "df_interactions = df_interactions.drop(columns='interactingPDBEntries')\n",
        "df_interactions.head()"
      ],
      "metadata": {
        "cellView": "form",
        "id": "srarF4JnHxrU"
      },
      "execution_count": null,
      "outputs": []
    },
    {
      "cell_type": "code",
      "source": [
        "#@markdown Plot frequency of macromolecular interaction counts across the given UniProt residue range.\n",
        "res_macromol_interactions = df_interactions.groupby('startIndex')['pdbId']\n",
        "res_macromol_interactions_count = res_macromol_interactions.count().reset_index()\n",
        "res_macromol_interactions_count.plot.scatter(\n",
        "  x='startIndex', y='pdbId', xlabel=\"UniProt residue ID\", ylabel='# ligand interactions'\n",
        ")\n",
        "#@markdown It's now visually clear there are two regions in this protein that interact frequently with other macromolecules, at least as found in the PDB archive."
      ],
      "metadata": {
        "cellView": "form",
        "id": "IkBAcO21Ko3k"
      },
      "execution_count": null,
      "outputs": []
    },
    {
      "cell_type": "code",
      "source": [
        "#@markdown Plot frequency of macromolecular interaction counts by interaction partner.\n",
        "fig, ax = plt.subplots(figsize=(5, 5), tight_layout=True)\n",
        "\n",
        "for interacting_unp in df_interactions[\"interaction_accession\"].unique():\n",
        "  data = df_interactions[df_interactions['interaction_accession'] == interacting_unp]\n",
        "  data = data.groupby('startIndex')['pdbId']\n",
        "  data_count = data.count().reset_index()\n",
        "\n",
        "  ax.scatter(data_count[\"startIndex\"], data_count[\"pdbId\"], label=interacting_unp)\n",
        "\n",
        "ax.set_xlabel(\"UniProt residue ID\")\n",
        "ax.set_ylabel(\"# macromolecule interactions\")\n",
        "\n",
        "ax.legend()\n",
        "ax.grid(alpha=0.3)\n",
        "plt.show()\n",
        "plt.close()\n",
        "\n",
        "#@markdown What does this view tell you about the interaction of this protein with other macromolecules? You can search for the UniProt accessions via the [PDBe-KB website](https://www.ebi.ac.uk/pdbe/pdbe-kb/) to learn more about the interacting partners.\n",
        "\n"
      ],
      "metadata": {
        "cellView": "form",
        "id": "wz2oICg7QY4r"
      },
      "execution_count": null,
      "outputs": []
    },
    {
      "cell_type": "markdown",
      "source": [
        "## 5.&nbsp; Retrieve complexes from PDB archive via the Graph API\n",
        "\n"
      ],
      "metadata": {
        "id": "__6BqbxOm8kZ"
      }
    },
    {
      "cell_type": "code",
      "source": [
        "#@title 5.1 ▶️ Fetch complexes information for a given UniProt accession\n",
        "#@markdown Query the PDBe-KB Graph API for all macromolecules in the PDB archive that interact with the structures of the given UniProt accession.\n",
        "\n",
        "input_uniprot_accession = 'P43681' #@param {type:\"string\"}\n",
        "complexes_results = get_complexes_protein_data(input_uniprot_accession)"
      ],
      "metadata": {
        "cellView": "form",
        "id": "76-ttqpPnu7y"
      },
      "execution_count": null,
      "outputs": []
    },
    {
      "cell_type": "code",
      "source": [
        "#@markdown 🖨️ **Show results...**\n",
        "pprint(complexes_results)"
      ],
      "metadata": {
        "collapsed": true,
        "cellView": "form",
        "id": "xL9C83ieq32E"
      },
      "execution_count": null,
      "outputs": []
    },
    {
      "cell_type": "code",
      "source": [
        "#@markdown Run this cell to transform the API results into a Pandas DataFrame. A graph of the total number of chains found in each complex your UniProt accession is found in.\n",
        "\n",
        "# Transform into table\n",
        "df_complexes_with_duplicates = pd.DataFrame(complexes_results)\n",
        "\n",
        "# Sum the stoicheometry of each complex ID and plot\n",
        "df_complexes_grouped = df_complexes_with_duplicates.groupby('complex_id')\n",
        "df_complexes_stoich_sum = df_complexes_grouped[\"stoichiometry\"].sum().sort_values()\n",
        "df_complexes_stoich_sum.plot.bar(\n",
        "  x='complex_id', y='accession', ylabel=f\"# occurences of {input_uniprot_accession} in complexes\"\n",
        ")"
      ],
      "metadata": {
        "cellView": "form",
        "id": "7LxIlfZqp9pC"
      },
      "execution_count": null,
      "outputs": []
    },
    {
      "cell_type": "markdown",
      "source": [
        "## 6.&nbsp; Retrieve similar proteins from PDB archive via the Graph API\n",
        "\n",
        "The API call you will look at here is able to retrieve all structures from the PDB archive that meet a given threshold of sequence identity. This is similar to the search you performed earlier using the FoldSeek feature on the AlphaFold Database. Although, the results returned here are for experimentally derived structures only and are found via sequence identity, rather than structural similiarity.\n",
        "\n"
      ],
      "metadata": {
        "id": "f5uGT8n5jZax"
      }
    },
    {
      "cell_type": "code",
      "source": [
        "input_uniprot_accession = 'P22303' #@param {type:\"string\"}\n",
        "identity_cutoff = 50 # @param {type:\"slider\", min:1, max:100, step:1}\n",
        "similarity_results = get_similar_protein_data(input_uniprot_accession, identity_cutoff)"
      ],
      "metadata": {
        "cellView": "form",
        "id": "W6uooccuzwlC"
      },
      "execution_count": null,
      "outputs": []
    },
    {
      "cell_type": "code",
      "source": [
        "#@markdown 🖨️ **Show results...**\n",
        "pprint(similarity_results)"
      ],
      "metadata": {
        "cellView": "form",
        "id": "reh1QFZM0K7f"
      },
      "execution_count": null,
      "outputs": []
    },
    {
      "cell_type": "code",
      "source": [
        "#@markdown Run this cell to summarise how many hits you obtained at 50 % sequence identity. The output shows the number of hits by species name, molecule name and sequence identity (the API returns all structures with seq_id>=50).\n",
        "#@markdown <br><br>\n",
        "#@markdown You should only obtain 6 chains (as of September 2024). Reduce the sequence identity and the run the API call again to obtain more hits.\n",
        "\n",
        "# Reformat data to make it a list of similar proteins for the protein of interest\n",
        "df_expanded_uniprot = explode_dataset(\n",
        "    dataset=similarity_results[input_uniprot_accession],\n",
        "    column_to_explode='mapped_segment'\n",
        ")\n",
        "\n",
        "# Obtain the flattened data for each similar protein\n",
        "data = pd.json_normalize(df_expanded_uniprot['mapped_segment'])\n",
        "\n",
        "# Create reformatted dataset by joining the flattened data with the exploded dataset\n",
        "df_similar_proteins = df_expanded_uniprot.join(data)\n",
        "df_similar_proteins = df_similar_proteins.drop(columns='mapped_segment')\n",
        "\n",
        "for col in (\"species\", \"description\", \"sequence_identity\"):\n",
        "  print(df_similar_proteins[col].value_counts(), '\\n')\n",
        "\n",
        "df_similar_proteins"
      ],
      "metadata": {
        "cellView": "form",
        "id": "yQ-YVxST0Z28"
      },
      "execution_count": null,
      "outputs": []
    }
  ]
}